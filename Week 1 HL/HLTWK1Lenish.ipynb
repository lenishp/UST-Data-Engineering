{
 "cells": [
  {
   "cell_type": "code",
   "execution_count": 5,
   "source": [
    "print(\"Hello World\")\r\n",
    "print (\"My name is Lenish\")"
   ],
   "outputs": [
    {
     "output_type": "stream",
     "name": "stdout",
     "text": [
      "Hello World\n",
      "My name is Lenish\n"
     ]
    }
   ],
   "metadata": {}
  },
  {
   "cell_type": "code",
   "execution_count": 114,
   "source": [
    "# TASK 1\r\n",
    "\r\n",
    "import random\r\n",
    "name_user = input(\"Hi! What is your name?\")\r\n",
    "number = random.randint(1,10)\r\n",
    "print (name_user + \", guess the number I am thinking of between 1 & 10\")\r\n",
    "guessNumber = int(input(\"Type the number\"))\r\n",
    "if guessNumber == number:\r\n",
    "    print(\"Congrats! You guessed it correctly\")\r\n",
    "else:\r\n",
    "    print(\"Sorry you guessed it wrong, Try Again!\")"
   ],
   "outputs": [
    {
     "output_type": "stream",
     "name": "stdout",
     "text": [
      "Lenish, guess the number I am thinking of between 1 & 10\n",
      "Congrats! You guessed it correctly\n"
     ]
    }
   ],
   "metadata": {}
  },
  {
   "cell_type": "code",
   "execution_count": 136,
   "source": [
    "#TASK 2 \r\n",
    "\r\n",
    "joke_1 = \"What did the buffalo say when his son left for college? Bison!\"\r\n",
    "joke_2 = \"Where do fish sleep? In the riverbed.\"\r\n",
    "joke_3 = \"What do you call a singing laptop? A Dell!\"\r\n",
    "joke_4 = \"You know what I saw today? Everything I looked at.\"\r\n",
    "\r\n",
    "guess = int(input(\"Type  your favourite number between 1 & 100\"))\r\n",
    "if guess < 0 or guess > 100:\r\n",
    "    print(\"Error!\")\r\n",
    "elif guess <= 25:\r\n",
    "    print(joke_1)\r\n",
    "elif guess <=50:\r\n",
    "    print (joke_2)\r\n",
    "elif guess <=75:\r\n",
    "    print (joke_3)\r\n",
    "elif guess <=100:\r\n",
    "    print (joke_4)"
   ],
   "outputs": [
    {
     "output_type": "stream",
     "name": "stdout",
     "text": [
      "Where do fish sleep? In the riverbed.\n"
     ]
    }
   ],
   "metadata": {}
  },
  {
   "cell_type": "code",
   "execution_count": 144,
   "source": [
    "#TASK 3\r\n",
    "\r\n",
    "user = input (\"Hi! What is your name?\")\r\n",
    "starter = input(\"What is your favourite starter?\")\r\n",
    "main = input(\"What is your favourite main course?\")\r\n",
    "dessert = input(\"What is your favourite dessert?\")\r\n",
    "drink = input(\"What is your favourite drink?\")\r\n",
    "\r\n",
    "print(user + \", your favourite meal is\", starter , main , dessert, \"with a glass of\" , drink, \".\")\r\n",
    "\r\n"
   ],
   "outputs": [
    {
     "output_type": "stream",
     "name": "stdout",
     "text": [
      "oitjgrijt#, your favourite meal is nhgitr jitrng hjtr with a glass of huirvth .\n"
     ]
    }
   ],
   "metadata": {}
  },
  {
   "cell_type": "code",
   "execution_count": 153,
   "source": [
    "#TASK 4\r\n",
    "value_of_motorbike = 2000\r\n",
    "\r\n",
    "while value_of_motorbike > 1000:\r\n",
    "    print(value_of_motorbike)\r\n",
    "    value_of_motorbike = value_of_motorbike * 0.9\r\n"
   ],
   "outputs": [
    {
     "output_type": "stream",
     "name": "stdout",
     "text": [
      "2000\n",
      "1800.0\n",
      "1620.0\n",
      "1458.0\n",
      "1312.2\n",
      "1180.98\n",
      "1062.882\n"
     ]
    }
   ],
   "metadata": {}
  },
  {
   "cell_type": "code",
   "execution_count": 190,
   "source": [
    "#TASK 5 \r\n",
    "\r\n",
    "number1 = int(input(\"Type the first number\"))\r\n",
    "number2 = int(input(\"Type the second number\"))\r\n",
    "operation = input(\"Enter one of these operators to use: +, -, /, *, **\")\r\n",
    "\r\n",
    "if operation == \"+\" : \r\n",
    "    print(number1 , operation, number2, \"= \" + str(number1 + number2))\r\n",
    "elif operation == \"-\" :\r\n",
    "    print(number1 , operation, number2, \"= \" + str(number1 - number2))\r\n",
    "elif operation == \"/\" :\r\n",
    "    print(number1 , operation, number2, \"= \" + str(number1 / number2))\r\n",
    "elif operation == \"*\" :\r\n",
    "    print(number1 , operation, number2, \"= \" + str(number1 * number2))\r\n",
    "elif operation == \"**\" :\r\n",
    "    print(number1 , operation, number2, \"= \" + str(number1 ** number2))\r\n",
    "else:\r\n",
    "    print(\"Invalid Entry\")\r\n",
    "\r\n"
   ],
   "outputs": [
    {
     "output_type": "stream",
     "name": "stdout",
     "text": [
      "24 / 4 = 6.0\n"
     ]
    }
   ],
   "metadata": {}
  },
  {
   "cell_type": "code",
   "execution_count": 226,
   "source": [
    "#TASK 6 \r\n",
    "\r\n",
    "num = int(input(\"Please enter a number\"))\r\n",
    "if (num % 2) == 0:\r\n",
    "    print(\"It is an even numeber\")\r\n",
    "else: \r\n",
    "    print(\"It is an odd number\")"
   ],
   "outputs": [
    {
     "output_type": "stream",
     "name": "stdout",
     "text": [
      "It is an odd number\n"
     ]
    }
   ],
   "metadata": {}
  },
  {
   "cell_type": "code",
   "execution_count": 236,
   "source": [
    "#TASK 7 \r\n",
    "\r\n",
    "def value():\r\n",
    "    \r\n",
    "    value_of_motorbike = 2000\r\n",
    "    \r\n",
    "    while value_of_motorbike > 1000:\r\n",
    "        print(value_of_motorbike)\r\n",
    "        value_of_motorbike = value_of_motorbike * 0.9\r\n",
    "    \r\n",
    "    return value_of_motorbike\r\n",
    "\r\n",
    "message = value()"
   ],
   "outputs": [
    {
     "output_type": "stream",
     "name": "stdout",
     "text": [
      "2000\n",
      "1800.0\n",
      "1620.0\n",
      "1458.0\n",
      "1312.2\n",
      "1180.98\n",
      "1062.882\n"
     ]
    }
   ],
   "metadata": {}
  },
  {
   "cell_type": "code",
   "execution_count": 252,
   "source": [
    "# TASK 8\r\n",
    "\r\n",
    "def maths(inp_number1, inp_number2):\r\n",
    "\r\n",
    "    operation = input(\"Enter one of these operators to use: +, -, /, *, **\")\r\n",
    "\r\n",
    "    if operation == \"+\" : \r\n",
    "        print(inp_number1 , operation, inp_number2, \"= \" + str(inp_number1 + inp_number2))\r\n",
    "    elif operation == \"-\" :\r\n",
    "        print(inp_number1 , operation, inp_number2, \"= \" + str(inp_number1 - inp_number2))\r\n",
    "    elif operation == \"/\" :\r\n",
    "        print(inp_number1 , operation, inp_number2, \"= \" + str(inp_number1 / inp_number2))\r\n",
    "    elif operation == \"*\" :\r\n",
    "        print(inp_number1 , operation, inp_number2, \"= \" + str(inp_number1 * inp_number2))\r\n",
    "    elif operation == \"**\" :\r\n",
    "        print(inp_number1 , operation, inp_number2, \"= \" + str(inp_number1 ** inp_number2))\r\n",
    "    else:\r\n",
    "        print(\"Invalid Entry\")"
   ],
   "outputs": [],
   "metadata": {}
  },
  {
   "cell_type": "code",
   "execution_count": 253,
   "source": [
    "number1 = int(input(\"Type the first number\"))\r\n",
    "number2 = int(input(\"Type the second number\"))"
   ],
   "outputs": [],
   "metadata": {}
  },
  {
   "cell_type": "code",
   "execution_count": 254,
   "source": [
    "maths(number1, number2)"
   ],
   "outputs": [
    {
     "output_type": "stream",
     "name": "stdout",
     "text": [
      "5 + 2 = 7\n"
     ]
    }
   ],
   "metadata": {}
  },
  {
   "cell_type": "code",
   "execution_count": 255,
   "source": [
    "number3 = 20\r\n",
    "number4 = 10"
   ],
   "outputs": [],
   "metadata": {}
  },
  {
   "cell_type": "code",
   "execution_count": 256,
   "source": [
    "maths(number3, number4)"
   ],
   "outputs": [
    {
     "output_type": "stream",
     "name": "stdout",
     "text": [
      "20 - 10 = 10\n"
     ]
    }
   ],
   "metadata": {}
  },
  {
   "cell_type": "code",
   "execution_count": 257,
   "source": [
    "number5 = 10\r\n",
    "number6 = 2"
   ],
   "outputs": [],
   "metadata": {}
  },
  {
   "cell_type": "code",
   "execution_count": 258,
   "source": [
    "maths(number5, number6)"
   ],
   "outputs": [
    {
     "output_type": "stream",
     "name": "stdout",
     "text": [
      "10 / 2 = 5.0\n"
     ]
    }
   ],
   "metadata": {}
  },
  {
   "cell_type": "markdown",
   "source": [
    "\r\n",
    "All the codes below are the practice ones that I tried from the first week (i.e : IGNORE!!!) \\"
   ],
   "metadata": {}
  },
  {
   "cell_type": "code",
   "execution_count": 223,
   "source": [
    "user_input = int(input(\"Please enter a number\"))\r\n",
    "while user_input > 10:\r\n",
    "    print(user_input)\r\n",
    "    user_input = user_input - 1 "
   ],
   "outputs": [
    {
     "output_type": "stream",
     "name": "stdout",
     "text": [
      "20\n",
      "19\n",
      "18\n",
      "17\n",
      "16\n",
      "15\n",
      "14\n",
      "13\n",
      "12\n",
      "11\n"
     ]
    }
   ],
   "metadata": {}
  },
  {
   "cell_type": "code",
   "execution_count": 195,
   "source": [
    "def function_1(): \r\n",
    "    name = input(\"What is your name?\")\r\n",
    "    age = int(input(\"What is your age?\"))\r\n",
    "\r\n",
    "    output = print(\"Hello\", name + \"! You will be\", age + 2, \"in 2 years\")\r\n",
    "\r\n",
    "    return output "
   ],
   "outputs": [],
   "metadata": {}
  },
  {
   "cell_type": "code",
   "execution_count": 215,
   "source": [
    "function_1()"
   ],
   "outputs": [
    {
     "output_type": "stream",
     "name": "stdout",
     "text": [
      "Hello Lenish! You will be 25 in 2 years\n"
     ]
    }
   ],
   "metadata": {}
  },
  {
   "cell_type": "code",
   "execution_count": 181,
   "source": [
    "number1 = 1\r\n",
    "number2 = 2\r\n",
    "\r\n",
    "if number1 == 1:\r\n",
    "    if number2 == 2:\r\n",
    "        print(\"Both number match up\") \r\n",
    "    else: \r\n",
    "        print(\"The first number matches but not the second\")\r\n",
    "else:\r\n",
    "    if number2 == 2: \r\n",
    "        print(\"Only the second number matches\")\r\n",
    "    else:\r\n",
    "        print(\"None match\")"
   ],
   "outputs": [
    {
     "output_type": "stream",
     "name": "stdout",
     "text": [
      "Both number match up\n"
     ]
    }
   ],
   "metadata": {}
  },
  {
   "cell_type": "code",
   "execution_count": 189,
   "source": [
    "for i in range(10):\r\n",
    "    for j in range(10):\r\n",
    "        print(\"i:\", i , \"j:\", j)\r\n",
    "    print(\"The start of next i loop\")"
   ],
   "outputs": [
    {
     "output_type": "stream",
     "name": "stdout",
     "text": [
      "i: 0 j: 0\n",
      "i: 0 j: 1\n",
      "i: 0 j: 2\n",
      "i: 0 j: 3\n",
      "i: 0 j: 4\n",
      "i: 0 j: 5\n",
      "i: 0 j: 6\n",
      "i: 0 j: 7\n",
      "i: 0 j: 8\n",
      "i: 0 j: 9\n",
      "The start of next i loop\n",
      "i: 1 j: 0\n",
      "i: 1 j: 1\n",
      "i: 1 j: 2\n",
      "i: 1 j: 3\n",
      "i: 1 j: 4\n",
      "i: 1 j: 5\n",
      "i: 1 j: 6\n",
      "i: 1 j: 7\n",
      "i: 1 j: 8\n",
      "i: 1 j: 9\n",
      "The start of next i loop\n",
      "i: 2 j: 0\n",
      "i: 2 j: 1\n",
      "i: 2 j: 2\n",
      "i: 2 j: 3\n",
      "i: 2 j: 4\n",
      "i: 2 j: 5\n",
      "i: 2 j: 6\n",
      "i: 2 j: 7\n",
      "i: 2 j: 8\n",
      "i: 2 j: 9\n",
      "The start of next i loop\n",
      "i: 3 j: 0\n",
      "i: 3 j: 1\n",
      "i: 3 j: 2\n",
      "i: 3 j: 3\n",
      "i: 3 j: 4\n",
      "i: 3 j: 5\n",
      "i: 3 j: 6\n",
      "i: 3 j: 7\n",
      "i: 3 j: 8\n",
      "i: 3 j: 9\n",
      "The start of next i loop\n",
      "i: 4 j: 0\n",
      "i: 4 j: 1\n",
      "i: 4 j: 2\n",
      "i: 4 j: 3\n",
      "i: 4 j: 4\n",
      "i: 4 j: 5\n",
      "i: 4 j: 6\n",
      "i: 4 j: 7\n",
      "i: 4 j: 8\n",
      "i: 4 j: 9\n",
      "The start of next i loop\n",
      "i: 5 j: 0\n",
      "i: 5 j: 1\n",
      "i: 5 j: 2\n",
      "i: 5 j: 3\n",
      "i: 5 j: 4\n",
      "i: 5 j: 5\n",
      "i: 5 j: 6\n",
      "i: 5 j: 7\n",
      "i: 5 j: 8\n",
      "i: 5 j: 9\n",
      "The start of next i loop\n",
      "i: 6 j: 0\n",
      "i: 6 j: 1\n",
      "i: 6 j: 2\n",
      "i: 6 j: 3\n",
      "i: 6 j: 4\n",
      "i: 6 j: 5\n",
      "i: 6 j: 6\n",
      "i: 6 j: 7\n",
      "i: 6 j: 8\n",
      "i: 6 j: 9\n",
      "The start of next i loop\n",
      "i: 7 j: 0\n",
      "i: 7 j: 1\n",
      "i: 7 j: 2\n",
      "i: 7 j: 3\n",
      "i: 7 j: 4\n",
      "i: 7 j: 5\n",
      "i: 7 j: 6\n",
      "i: 7 j: 7\n",
      "i: 7 j: 8\n",
      "i: 7 j: 9\n",
      "The start of next i loop\n",
      "i: 8 j: 0\n",
      "i: 8 j: 1\n",
      "i: 8 j: 2\n",
      "i: 8 j: 3\n",
      "i: 8 j: 4\n",
      "i: 8 j: 5\n",
      "i: 8 j: 6\n",
      "i: 8 j: 7\n",
      "i: 8 j: 8\n",
      "i: 8 j: 9\n",
      "The start of next i loop\n",
      "i: 9 j: 0\n",
      "i: 9 j: 1\n",
      "i: 9 j: 2\n",
      "i: 9 j: 3\n",
      "i: 9 j: 4\n",
      "i: 9 j: 5\n",
      "i: 9 j: 6\n",
      "i: 9 j: 7\n",
      "i: 9 j: 8\n",
      "i: 9 j: 9\n",
      "The start of next i loop\n"
     ]
    }
   ],
   "metadata": {}
  },
  {
   "cell_type": "code",
   "execution_count": 3,
   "source": [
    "var_1 = 6\r\n",
    "var_2 = 7\r\n",
    "print(var_1)\r\n",
    "print(var_2)\r\n",
    "\r\n",
    "var_1 = var_2\r\n",
    "print(var_1)"
   ],
   "outputs": [
    {
     "output_type": "stream",
     "name": "stdout",
     "text": [
      "6\n",
      "7\n",
      "7\n"
     ]
    }
   ],
   "metadata": {}
  },
  {
   "cell_type": "code",
   "execution_count": 35,
   "source": [
    "cheese = [25, \"Kyle\", [350, \"Lenish\"], 89, \"Hi\" ]\r\n",
    "chicken = [\"t\", \"m\"]\r\n",
    "\r\n",
    "cheese.append(chicken)\r\n",
    "\r\n",
    "print(cheese)"
   ],
   "outputs": [
    {
     "output_type": "stream",
     "name": "stdout",
     "text": [
      "[25, 'Kyle', [350, 'Lenish'], 89, 'Hi', ['t', 'm']]\n"
     ]
    }
   ],
   "metadata": {}
  },
  {
   "cell_type": "code",
   "execution_count": 38,
   "source": [
    "dalek = (56, 38, (), [], \"exterminate\")\r\n",
    "\r\n",
    "print(dalek[::-1])"
   ],
   "outputs": [
    {
     "output_type": "stream",
     "name": "stdout",
     "text": [
      "('exterminate', [], (), 38, 56)\n"
     ]
    }
   ],
   "metadata": {}
  },
  {
   "cell_type": "code",
   "execution_count": 77,
   "source": [
    "fools = {2049 : {\"Dezel, Tom, Billy, Jonathan\"}}\r\n",
    "\r\n",
    "clowns = {129 : \"Tommy, Justin, Ben\"}\r\n",
    "\r\n",
    "fools.update(clowns)\r\n",
    "\r\n",
    "if 2049 in fools:\r\n",
    "    print(\"You did it!\")"
   ],
   "outputs": [
    {
     "output_type": "stream",
     "name": "stdout",
     "text": [
      "You did it!\n"
     ]
    }
   ],
   "metadata": {}
  },
  {
   "cell_type": "code",
   "execution_count": 213,
   "source": [
    "#function \r\n",
    "import random\r\n",
    "dicelist = [1,2,3,4,5,6,7,8,9,10]\r\n",
    "def dice():\r\n",
    "    number1 = random.choice(dicelist)\r\n",
    "    number2 = random.choice(dicelist)\r\n",
    "\r\n",
    "    number = number1 + number2\r\n",
    "    #passes value to the program below\r\n",
    "    return number\r\n"
   ],
   "outputs": [],
   "metadata": {}
  },
  {
   "cell_type": "code",
   "execution_count": 214,
   "source": [
    "dice()\r\n",
    "newnumber = dice()\r\n",
    "print(\"The number returned from the function is:\", newnumber)"
   ],
   "outputs": [
    {
     "output_type": "stream",
     "name": "stdout",
     "text": [
      "The number returned from the function is: 6\n"
     ]
    }
   ],
   "metadata": {}
  },
  {
   "cell_type": "code",
   "execution_count": 40,
   "source": [
    "#procedure \r\n",
    "score = 54\r\n",
    "high_score = 86\r\n",
    "lives = 3\r\n",
    "def update_display():\r\n",
    "    print(\"Your score: \" + str(score))\r\n",
    "    print(\"High score: \" + str(high_score))\r\n",
    "    print(\"Lives remaining: \" + str(lives))\r\n",
    "# End of level\r\n",
    "update_display()\r\n",
    "# Lose a life\r\n",
    "update_display()\r\n",
    "# New high score\r\n",
    "update_display()\r\n",
    "# Game over\r\n",
    "update_display()\r\n",
    "#fucntion \r\n",
    "import random\r\n",
    "dicelist = [1,2,3,4,5,6,7,8,9,10]\r\n",
    "def dice():\r\n",
    "    number1 = random.choice(dicelist)\r\n",
    "    number2 = random.choice(dicelist)\r\n",
    "    number = number1 + number2\r\n",
    "    print(number1)\r\n",
    "    print(number2)\r\n",
    "    #passes value to the program below\r\n",
    "    return number\r\n",
    "dice()\r\n",
    "newnumber = dice()\r\n",
    "print(\"The number returned from the function is:\", newnumber)\r\n",
    "newnumber2 = newnumber + newnumber\r\n",
    "print(newnumber2)"
   ],
   "outputs": [
    {
     "output_type": "stream",
     "name": "stdout",
     "text": [
      "Your score: 54\n",
      "High score: 86\n",
      "Lives remaining: 3\n",
      "Your score: 54\n",
      "High score: 86\n",
      "Lives remaining: 3\n",
      "Your score: 54\n",
      "High score: 86\n",
      "Lives remaining: 3\n",
      "Your score: 54\n",
      "High score: 86\n",
      "Lives remaining: 3\n",
      "6\n",
      "8\n",
      "3\n",
      "5\n",
      "The number returned from the function is: 8\n",
      "16\n"
     ]
    }
   ],
   "metadata": {}
  },
  {
   "cell_type": "markdown",
   "source": [],
   "metadata": {}
  }
 ],
 "metadata": {
  "orig_nbformat": 4,
  "language_info": {
   "name": "python",
   "version": "3.9.7",
   "mimetype": "text/x-python",
   "codemirror_mode": {
    "name": "ipython",
    "version": 3
   },
   "pygments_lexer": "ipython3",
   "nbconvert_exporter": "python",
   "file_extension": ".py"
  },
  "kernelspec": {
   "name": "python3",
   "display_name": "Python 3.9.7 64-bit"
  },
  "interpreter": {
   "hash": "4036cbc5b3a6e1bf5c71dfdd7fac6a91e4819f97a5327826313a74d033093da2"
  }
 },
 "nbformat": 4,
 "nbformat_minor": 2
}