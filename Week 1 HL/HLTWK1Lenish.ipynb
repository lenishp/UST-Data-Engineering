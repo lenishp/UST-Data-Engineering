{
 "cells": [
  {
   "cell_type": "code",
   "execution_count": null,
   "source": [
    "print(\"Hello World\")\r\n",
    "print(\"My name is Lenish\")"
   ],
   "outputs": [],
   "metadata": {}
  },
  {
   "cell_type": "code",
   "execution_count": null,
   "source": [
    "# TASK 1\r\n",
    "\r\n",
    "import random\r\n",
    "name_user = input(\"Hi! What is your name?\")\r\n",
    "number = random.randint(1,10)\r\n",
    "print (name_user + \", guess the number I am thinking of between 1 & 10\")\r\n",
    "guessNumber = int(input(\"Type the number\"))\r\n",
    "if guessNumber == number:\r\n",
    "    print(\"Congrats! You guessed it correctly\")\r\n",
    "else:\r\n",
    "    print(\"Sorry you guessed it wrong, Try Again!\")"
   ],
   "outputs": [],
   "metadata": {}
  },
  {
   "cell_type": "code",
   "execution_count": null,
   "source": [
    "#TASK 2 \r\n",
    "\r\n",
    "joke_1 = \"What did the buffalo say when his son left for college? Bison!\"\r\n",
    "joke_2 = \"Where do fish sleep? In the riverbed.\"\r\n",
    "joke_3 = \"What do you call a singing laptop? A Dell!\"\r\n",
    "joke_4 = \"You know what I saw today? Everything I looked at.\"\r\n",
    "\r\n",
    "guess = int(input(\"Type  your favourite number between 1 & 100\"))\r\n",
    "if guess < 0 or guess > 100:\r\n",
    "    print(\"Error!\")\r\n",
    "elif guess <= 25:\r\n",
    "    print(joke_1)\r\n",
    "elif guess <=50:\r\n",
    "    print (joke_2)\r\n",
    "elif guess <=75:\r\n",
    "    print (joke_3)\r\n",
    "elif guess <=100:\r\n",
    "    print (joke_4)"
   ],
   "outputs": [],
   "metadata": {}
  },
  {
   "cell_type": "code",
   "execution_count": null,
   "source": [
    "#TASK 3\r\n",
    "\r\n",
    "user = input (\"Hi! What is your name?\")\r\n",
    "starter = input(\"What is your favourite starter?\")\r\n",
    "main = input(\"What is your favourite main course?\")\r\n",
    "dessert = input(\"What is your favourite dessert?\")\r\n",
    "drink = input(\"What is your favourite drink?\")\r\n",
    "\r\n",
    "print(user + \", your favourite meal is\", starter , main , dessert, \"with a glass of\" , drink, \".\")\r\n",
    "\r\n"
   ],
   "outputs": [],
   "metadata": {}
  },
  {
   "cell_type": "code",
   "execution_count": null,
   "source": [
    "#TASK 4\r\n",
    "value_of_motorbike = 2000\r\n",
    "\r\n",
    "while value_of_motorbike > 1000:\r\n",
    "    print(value_of_motorbike)\r\n",
    "    value_of_motorbike = value_of_motorbike * 0.9\r\n"
   ],
   "outputs": [],
   "metadata": {}
  },
  {
   "cell_type": "code",
   "execution_count": null,
   "source": [
    "#TASK 5 \r\n",
    "\r\n",
    "number1 = int(input(\"Type the first number\"))\r\n",
    "number2 = int(input(\"Type the second number\"))\r\n",
    "operation = input(\"Enter one of these operators to use: +, -, /, *, **\")\r\n",
    "\r\n",
    "if operation == \"+\" : \r\n",
    "    print(number1 , operation, number2, \"= \" + str(number1 + number2))\r\n",
    "elif operation == \"-\" :\r\n",
    "    print(number1 , operation, number2, \"= \" + str(number1 - number2))\r\n",
    "elif operation == \"/\" :\r\n",
    "    print(number1 , operation, number2, \"= \" + str(number1 / number2))\r\n",
    "elif operation == \"*\" :\r\n",
    "    print(number1 , operation, number2, \"= \" + str(number1 * number2))\r\n",
    "elif operation == \"**\" :\r\n",
    "    print(number1 , operation, number2, \"= \" + str(number1 ** number2))\r\n",
    "else:\r\n",
    "    print(\"Invalid Entry\")\r\n",
    "\r\n"
   ],
   "outputs": [],
   "metadata": {}
  },
  {
   "cell_type": "code",
   "execution_count": null,
   "source": [
    "#TASK 6 \r\n",
    "\r\n",
    "num = int(input(\"Please enter a number\"))\r\n",
    "if (num % 2) == 0:\r\n",
    "    print(\"It is an even numeber\")\r\n",
    "else: \r\n",
    "    print(\"It is an odd number\")"
   ],
   "outputs": [],
   "metadata": {}
  },
  {
   "cell_type": "code",
   "execution_count": null,
   "source": [
    "#TASK 7 \r\n",
    "\r\n",
    "def value():\r\n",
    "    \r\n",
    "    value_of_motorbike = 2000\r\n",
    "    \r\n",
    "    while value_of_motorbike > 1000:\r\n",
    "        print(value_of_motorbike)\r\n",
    "        value_of_motorbike = value_of_motorbike * 0.9\r\n",
    "    \r\n",
    "    return value_of_motorbike\r\n",
    "\r\n",
    "message = value()"
   ],
   "outputs": [],
   "metadata": {}
  },
  {
   "cell_type": "code",
   "execution_count": 164,
   "source": [
    "# TASK 8\r\n",
    "\r\n",
    "def maths(inp_number1, inp_number2):\r\n",
    "\r\n",
    "    operation = input(\"Enter one of these operators to use: +, -, /, *, **\")\r\n",
    "\r\n",
    "    if operation == \"+\" : \r\n",
    "        print(inp_number1 , operation, inp_number2, \"= \" + str(inp_number1 + inp_number2))\r\n",
    "    elif operation == \"-\" :\r\n",
    "        print(inp_number1 , operation, inp_number2, \"= \" + str(inp_number1 - inp_number2))\r\n",
    "    elif operation == \"/\" :\r\n",
    "        print(inp_number1 , operation, inp_number2, \"= \" + str(inp_number1 / inp_number2))\r\n",
    "    elif operation == \"*\" :\r\n",
    "        print(inp_number1 , operation, inp_number2, \"= \" + str(inp_number1 * inp_number2))\r\n",
    "    elif operation == \"**\" :\r\n",
    "        print(inp_number1 , operation, inp_number2, \"= \" + str(inp_number1 ** inp_number2))\r\n",
    "    else:\r\n",
    "        print(\"Invalid Entry\")"
   ],
   "outputs": [],
   "metadata": {}
  },
  {
   "cell_type": "code",
   "execution_count": 165,
   "source": [
    "number1 = int(input(\"Type the first number\"))\r\n",
    "number2 = int(input(\"Type the second number\"))"
   ],
   "outputs": [],
   "metadata": {}
  },
  {
   "cell_type": "code",
   "execution_count": 166,
   "source": [
    "maths(number1, number2)"
   ],
   "outputs": [
    {
     "output_type": "stream",
     "name": "stdout",
     "text": [
      "2 + 4 = 6\n"
     ]
    }
   ],
   "metadata": {}
  },
  {
   "cell_type": "code",
   "execution_count": null,
   "source": [
    "number3 = 20\r\n",
    "number4 = 10"
   ],
   "outputs": [],
   "metadata": {}
  },
  {
   "cell_type": "code",
   "execution_count": null,
   "source": [
    "maths(number3, number4)"
   ],
   "outputs": [],
   "metadata": {}
  },
  {
   "cell_type": "code",
   "execution_count": null,
   "source": [
    "number5 = 10\r\n",
    "number6 = 2"
   ],
   "outputs": [],
   "metadata": {}
  },
  {
   "cell_type": "code",
   "execution_count": null,
   "source": [
    "maths(number5, number6)"
   ],
   "outputs": [],
   "metadata": {}
  },
  {
   "cell_type": "code",
   "execution_count": 98,
   "source": [
    "#TASK 9 \r\n",
    "no_1 = int(input(\"Put down the first number\"))\r\n",
    "no_2 = int(input(\"Put down the second number\"))\r\n",
    "no_3 = int(input(\"Put down the third number\"))\r\n",
    "no_4 = int(input(\"Put down the fourth number\"))\r\n",
    "\r\n",
    "numbers = [no_1, no_2, no_3, no_4]\r\n",
    "\r\n",
    "task_file = open(\"numbers.txt\", \"w\")\r\n",
    "task_file.write(str(numbers))\r\n",
    "task_file.close()\r\n"
   ],
   "outputs": [],
   "metadata": {}
  },
  {
   "cell_type": "code",
   "execution_count": 94,
   "source": [
    "# using \\n\r\n",
    "\r\n",
    "practice_file = open(\"numbers.txt\", \"w\")\r\n",
    "for i in range(10):\r\n",
    "    practice_file.write(str(i))\r\n",
    "    practice_file.write(\"\\n\")\r\n",
    "\r\n",
    "practice_file.close()"
   ],
   "outputs": [],
   "metadata": {}
  },
  {
   "cell_type": "code",
   "execution_count": 99,
   "source": [
    "#Reading file\r\n",
    "with open(\"numbers.txt\", \"r\") as myfile:\r\n",
    "    data = myfile.read()\r\n",
    "\r\n",
    "myfile.close()\r\n",
    "\r\n",
    "print(data)\r\n"
   ],
   "outputs": [
    {
     "output_type": "stream",
     "name": "stdout",
     "text": [
      "[4, 5, 6, 7]\n"
     ]
    }
   ],
   "metadata": {}
  },
  {
   "cell_type": "code",
   "execution_count": 100,
   "source": [
    "#Reading file + using replace\r\n",
    "\r\n",
    "with open(\"numbers.txt\", \"r\") as practicefile:\r\n",
    "     practice = practicefile.read().replace('\\n', \",\")\r\n",
    "\r\n",
    "practicefile.close()\r\n",
    "\r\n",
    "print(practice)"
   ],
   "outputs": [
    {
     "output_type": "stream",
     "name": "stdout",
     "text": [
      "[4, 5, 6, 7]\n"
     ]
    }
   ],
   "metadata": {}
  },
  {
   "cell_type": "code",
   "execution_count": 103,
   "source": [
    "#Appending file \r\n",
    "\r\n",
    "Myfile = open(\"numbers.txt\",\"a\")\r\n",
    "\r\n",
    "Myfile.write(\"This is a practice\\n\")\r\n",
    "\r\n",
    "Myfile.close()"
   ],
   "outputs": [],
   "metadata": {}
  },
  {
   "cell_type": "code",
   "execution_count": 237,
   "source": [
    "#TASK 10 \r\n",
    "def mark_grade(): \r\n",
    "    achievedmark = int(input(\"What percentage mark did you get?\"))\r\n",
    "    print(\"Mark = \" , str(achievedmark) + \"%\") \r\n",
    "    if 100 >= achievedmark >= 90:\r\n",
    "        print(\"You achieved A\")\r\n",
    "    elif 90 > achievedmark >= 80:\r\n",
    "        print(\"You achieved A\")\r\n",
    "    elif 80 > achievedmark >= 70:\r\n",
    "        print(\"You achieved B\")\r\n",
    "    elif 70 > achievedmark >= 60:\r\n",
    "        print(\"You achieved C\")\r\n",
    "    elif 60 > achievedmark >= 50:\r\n",
    "        print(\"You achieved D\")\r\n",
    "    elif 50 > achievedmark >= 40:\r\n",
    "        print(\"You achieved E\")\r\n",
    "    elif achievedmark < 40:\r\n",
    "        print(\"Grade U, Sorry you failed! Grade U!\")\r\n",
    "    else: \r\n",
    "        print(\"You entered incorrect mark\")\r\n",
    "    \r\n",
    "    return achievedmark\r\n",
    "\r\n",
    "message = mark_grade()\r\n",
    "\r\n",
    "def target_grade():\r\n",
    "    \r\n",
    "    target =input(\"What was your target grade?\")\r\n",
    "    output = \"Your target grade was \"+ target \r\n",
    "\r\n",
    "    return output\r\n",
    "\r\n",
    "\r\n",
    "message2 = target_grade()\r\n",
    "\r\n",
    "print(message2)\r\n",
    "\r\n",
    "targetmark = int(input(\"Type the target mark from the range corresponding to your target grade: A* = 90-100 , A = 80-89, B = 79-70, C = 69-60, D = 59-50, E = 49-40, U = <40\"))\r\n",
    "achieved_mark = int(input(\"What percentage mark did you get?\"))\r\n",
    "    \r\n",
    "if targetmark == achieved_mark:\r\n",
    "    print(\"Well done! You acheived your target grade\")\r\n",
    "elif targetmark > achieved_mark:\r\n",
    "    print(\"Unlucky! You didn't achieve your target grade\")\r\n",
    "elif targetmark < achieved_mark:\r\n",
    "    print(\"Well done! You exceeded your target grade\")\r\n"
   ],
   "outputs": [
    {
     "output_type": "stream",
     "name": "stdout",
     "text": [
      "Mark =  70%\n",
      "You achieved B\n",
      "Your target grade was B\n",
      "Well done! You acheived your target grade\n"
     ]
    }
   ],
   "metadata": {}
  },
  {
   "cell_type": "code",
   "execution_count": null,
   "source": [
    "grade1 = \"A\"\r\n",
    "grade2 = \"B\"\r\n",
    "grade3 = \"C\"\r\n",
    "\r\n",
    "if number1 == 1:\r\n",
    "    if number2 == 2:\r\n",
    "        print(\"Both number match up\") \r\n",
    "    else: \r\n",
    "        print(\"The first number matches but not the second\")\r\n",
    "else:\r\n",
    "    if number2 == 2: \r\n",
    "        print(\"Only the second number matches\")\r\n",
    "    else:\r\n",
    "        print(\"None match\")"
   ],
   "outputs": [],
   "metadata": {}
  },
  {
   "cell_type": "code",
   "execution_count": 197,
   "source": [
    "#Extension \r\n",
    "def target_grade():\r\n",
    "    \r\n",
    "    message1 = mark_grade()\r\n",
    "    target =input(\"What was your target grade?\")\r\n",
    "    if target == \"A*\" & 100 >= achievedmark >= 90: \r\n",
    "        \r\n",
    "\r\n",
    "\r\n",
    "    output = \"Your target grade was \"+ target \r\n",
    "\r\n",
    "    return output\r\n",
    "\r\n",
    "message2 = target_grade()\r\n",
    "\r\n",
    "print(message2)\r\n",
    "\r\n",
    "\r\n"
   ],
   "outputs": [
    {
     "output_type": "error",
     "ename": "SyntaxError",
     "evalue": "invalid syntax (Temp/ipykernel_24156/2045771195.py, line 6)",
     "traceback": [
      "\u001b[1;36m  File \u001b[1;32m\"C:\\Users\\Lenish\\AppData\\Local\\Temp/ipykernel_24156/2045771195.py\"\u001b[1;36m, line \u001b[1;32m6\u001b[0m\n\u001b[1;33m    if\u001b[0m\n\u001b[1;37m       ^\u001b[0m\n\u001b[1;31mSyntaxError\u001b[0m\u001b[1;31m:\u001b[0m invalid syntax\n"
     ]
    }
   ],
   "metadata": {}
  },
  {
   "cell_type": "code",
   "execution_count": 176,
   "source": [
    "achievedmark = int(input(\"What is your percentage mark?\"))\r\n"
   ],
   "outputs": [],
   "metadata": {}
  },
  {
   "cell_type": "code",
   "execution_count": 186,
   "source": [
    "def get_letter_grade(final_score) :\r\n",
    "\r\n",
    "    if 90 <= final_score <= 100:\r\n",
    "        grade = 'Grade A'\r\n",
    "    elif 80 <= final_score <= 89:\r\n",
    "        grade = 'B'\r\n",
    "    elif 70 <= final_score <= 79:\r\n",
    "        grade = 'C'\r\n",
    "    elif 60 <= final_score <= 69:\r\n",
    "        grade = 'D'\r\n",
    "    else:\r\n",
    "        grade = 'F'\r\n",
    "    return grade\r\n",
    "\r\n",
    "message= get_letter_grade(95)\r\n",
    "print(message)"
   ],
   "outputs": [
    {
     "output_type": "stream",
     "name": "stdout",
     "text": [
      "Grade A\n"
     ]
    }
   ],
   "metadata": {}
  },
  {
   "cell_type": "markdown",
   "source": [
    "All the codes below are the practice ones that I tried from the first week (i.e : PLEASE IGNORE!!!) \\"
   ],
   "metadata": {}
  },
  {
   "cell_type": "code",
   "execution_count": 7,
   "source": [
    "my_1d_list = [1, 2, 3, 4, 5, 6, 7, 8,]\r\n",
    "print(my_1d_list)\r\n",
    "print(len(my_1d_list))\r\n",
    "\r\n",
    "for i in range(len(my_1d_list)):\r\n",
    "    print(\"My list value\", i, \"is :\", my_1d_list[i])\r\n",
    "\r\n",
    "print(my_1d_list[2])\r\n",
    "print(my_1d_list[2:6])"
   ],
   "outputs": [
    {
     "output_type": "stream",
     "name": "stdout",
     "text": [
      "[1, 2, 3, 4, 5, 6, 7, 8]\n",
      "8\n",
      "My list value 0 is : 1\n",
      "My list value 1 is : 2\n",
      "My list value 2 is : 3\n",
      "My list value 3 is : 4\n",
      "My list value 4 is : 5\n",
      "My list value 5 is : 6\n",
      "My list value 6 is : 7\n",
      "My list value 7 is : 8\n",
      "3\n",
      "[3, 4, 5, 6]\n"
     ]
    }
   ],
   "metadata": {}
  },
  {
   "cell_type": "code",
   "execution_count": 18,
   "source": [
    "my2dlist = [[1,2,3,4],[5,6,7,8],[9,10,11,12],[13,14,15,16]]\r\n",
    "print(my2dlist)\r\n",
    "print(my2dlist[0])\r\n",
    "print(my2dlist[2][3])\r\n",
    "print(my2dlist[2:4])"
   ],
   "outputs": [
    {
     "output_type": "stream",
     "name": "stdout",
     "text": [
      "[[1, 2, 3, 4], [5, 6, 7, 8], [9, 10, 11, 12], [13, 14, 15, 16]]\n",
      "[1, 2, 3, 4]\n",
      "12\n",
      "[[9, 10, 11, 12], [13, 14, 15, 16]]\n"
     ]
    }
   ],
   "metadata": {}
  },
  {
   "cell_type": "code",
   "execution_count": 31,
   "source": [
    "mytext = \"Example\"\r\n",
    "for each_char in range(len(mytext)):\r\n",
    "    print(\"My character at\", each_char, \"is\", mytext[each_char])"
   ],
   "outputs": [
    {
     "output_type": "stream",
     "name": "stdout",
     "text": [
      "My character at 0 is E\n",
      "My character at 1 is x\n",
      "My character at 2 is a\n",
      "My character at 3 is m\n",
      "My character at 4 is p\n",
      "My character at 5 is l\n",
      "My character at 6 is e\n"
     ]
    }
   ],
   "metadata": {}
  },
  {
   "cell_type": "code",
   "execution_count": null,
   "source": [
    "user_input = int(input(\"Please enter a number\"))\r\n",
    "while user_input > 10:\r\n",
    "    print(user_input)\r\n",
    "    user_input = user_input - 1 "
   ],
   "outputs": [],
   "metadata": {}
  },
  {
   "cell_type": "code",
   "execution_count": 3,
   "source": [
    "def function_1(): \r\n",
    "    name = input(\"What is your name?\")\r\n",
    "    age = int(input(\"What is your age?\"))\r\n",
    "\r\n",
    "    output = print(\"Hello\", name + \"! You will be\", age + 2, \"in 2 years\")\r\n",
    "\r\n",
    "    return output "
   ],
   "outputs": [],
   "metadata": {}
  },
  {
   "cell_type": "code",
   "execution_count": null,
   "source": [
    "function_1()"
   ],
   "outputs": [],
   "metadata": {}
  },
  {
   "cell_type": "code",
   "execution_count": null,
   "source": [
    "number1 = 1\r\n",
    "number2 = 2\r\n",
    "\r\n",
    "if number1 == 1:\r\n",
    "    if number2 == 2:\r\n",
    "        print(\"Both number match up\") \r\n",
    "    else: \r\n",
    "        print(\"The first number matches but not the second\")\r\n",
    "else:\r\n",
    "    if number2 == 2: \r\n",
    "        print(\"Only the second number matches\")\r\n",
    "    else:\r\n",
    "        print(\"None match\")"
   ],
   "outputs": [],
   "metadata": {}
  },
  {
   "cell_type": "code",
   "execution_count": null,
   "source": [
    "for i in range(10):\r\n",
    "    for j in range(10):\r\n",
    "        print(\"i:\", i , \"j:\", j)\r\n",
    "    print(\"The start of next i loop\")"
   ],
   "outputs": [],
   "metadata": {}
  },
  {
   "cell_type": "code",
   "execution_count": null,
   "source": [
    "var_1 = 6\r\n",
    "var_2 = 7\r\n",
    "print(var_1)\r\n",
    "print(var_2)\r\n",
    "\r\n",
    "var_1 = var_2\r\n",
    "print(var_1)"
   ],
   "outputs": [],
   "metadata": {}
  },
  {
   "cell_type": "code",
   "execution_count": null,
   "source": [
    "cheese = [25, \"Kyle\", [350, \"Lenish\"], 89, \"Hi\" ]\r\n",
    "chicken = [\"t\", \"m\"]\r\n",
    "\r\n",
    "cheese.append(chicken)\r\n",
    "\r\n",
    "print(cheese)"
   ],
   "outputs": [],
   "metadata": {}
  },
  {
   "cell_type": "code",
   "execution_count": null,
   "source": [
    "dalek = (56, 38, (), [], \"exterminate\")\r\n",
    "\r\n",
    "print(dalek[::-1])"
   ],
   "outputs": [],
   "metadata": {}
  },
  {
   "cell_type": "code",
   "execution_count": 272,
   "source": [
    "fools = {2049 : {\"Dezel, Tom, Billy, Jonathan\"}}\r\n",
    "\r\n",
    "clowns = {129 : \"Tommy, Justin, Ben\"}\r\n",
    "\r\n",
    "fools.update(clowns)\r\n",
    "\r\n",
    "if 2049 in fools:\r\n",
    "    print(\"You did it!\")"
   ],
   "outputs": [
    {
     "output_type": "stream",
     "name": "stdout",
     "text": [
      "You did it!\n"
     ]
    }
   ],
   "metadata": {}
  },
  {
   "cell_type": "code",
   "execution_count": 273,
   "source": [
    "#function \r\n",
    "import random\r\n",
    "dicelist = [1,2,3,4,5,6,7,8,9,10]\r\n",
    "def dice():\r\n",
    "    number1 = random.choice(dicelist)\r\n",
    "    number2 = random.choice(dicelist)\r\n",
    "\r\n",
    "    number = number1 + number2\r\n",
    "    #passes value to the program below\r\n",
    "    return number\r\n"
   ],
   "outputs": [],
   "metadata": {}
  },
  {
   "cell_type": "code",
   "execution_count": 274,
   "source": [
    "dice()\r\n",
    "newnumber = dice()\r\n",
    "print(\"The number returned from the function is:\", newnumber)"
   ],
   "outputs": [
    {
     "output_type": "stream",
     "name": "stdout",
     "text": [
      "The number returned from the function is: 14\n"
     ]
    }
   ],
   "metadata": {}
  }
 ],
 "metadata": {
  "orig_nbformat": 4,
  "language_info": {
   "name": "python",
   "version": "3.9.7",
   "mimetype": "text/x-python",
   "codemirror_mode": {
    "name": "ipython",
    "version": 3
   },
   "pygments_lexer": "ipython3",
   "nbconvert_exporter": "python",
   "file_extension": ".py"
  },
  "kernelspec": {
   "name": "python3",
   "display_name": "Python 3.9.7 64-bit"
  },
  "interpreter": {
   "hash": "4036cbc5b3a6e1bf5c71dfdd7fac6a91e4819f97a5327826313a74d033093da2"
  }
 },
 "nbformat": 4,
 "nbformat_minor": 2
}