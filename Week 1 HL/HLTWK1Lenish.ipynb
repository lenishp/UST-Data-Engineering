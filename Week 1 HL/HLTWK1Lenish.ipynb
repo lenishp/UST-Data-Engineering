{
 "cells": [
  {
   "cell_type": "code",
   "execution_count": 3,
   "source": [
    "print(\"Hello World\")\r\n",
    "print (\"My name is Lenish\")"
   ],
   "outputs": [
    {
     "output_type": "stream",
     "name": "stdout",
     "text": [
      "Hello World\n",
      "My name is Lenish\n"
     ]
    }
   ],
   "metadata": {}
  }
 ],
 "metadata": {
  "orig_nbformat": 4,
  "language_info": {
   "name": "python",
   "version": "3.9.7",
   "mimetype": "text/x-python",
   "codemirror_mode": {
    "name": "ipython",
    "version": 3
   },
   "pygments_lexer": "ipython3",
   "nbconvert_exporter": "python",
   "file_extension": ".py"
  },
  "kernelspec": {
   "name": "python3",
   "display_name": "Python 3.9.7 64-bit"
  },
  "interpreter": {
   "hash": "4036cbc5b3a6e1bf5c71dfdd7fac6a91e4819f97a5327826313a74d033093da2"
  }
 },
 "nbformat": 4,
 "nbformat_minor": 2
}