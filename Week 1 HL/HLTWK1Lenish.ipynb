{
 "cells": [
  {
   "cell_type": "code",
   "execution_count": null,
   "metadata": {},
   "outputs": [],
   "source": [
    "print(\"Hello World\")\n",
    "print(\"My name is Lenish\")"
   ]
  },
  {
   "cell_type": "code",
   "execution_count": null,
   "metadata": {},
   "outputs": [],
   "source": [
    "# TASK 1\n",
    "\n",
    "import random\n",
    "name_user = input(\"Hi! What is your name?\")\n",
    "number = random.randint(1,10)\n",
    "print (name_user + \", guess the number I am thinking of between 1 & 10\")\n",
    "guessNumber = int(input(\"Type the number\"))\n",
    "if guessNumber == number:\n",
    "    print(\"Congrats! You guessed it correctly\")\n",
    "else:\n",
    "    print(\"Sorry you guessed it wrong, Try Again!\")"
   ]
  },
  {
   "cell_type": "code",
   "execution_count": null,
   "metadata": {},
   "outputs": [],
   "source": [
    "#TASK 2 \n",
    "\n",
    "joke_1 = \"What did the buffalo say when his son left for college? Bison!\"\n",
    "joke_2 = \"Where do fish sleep? In the riverbed.\"\n",
    "joke_3 = \"What do you call a singing laptop? A Dell!\"\n",
    "joke_4 = \"You know what I saw today? Everything I looked at.\"\n",
    "\n",
    "guess = int(input(\"Type  your favourite number between 1 & 100\"))\n",
    "if guess < 0 or guess > 100:\n",
    "    print(\"Error!\")\n",
    "elif guess <= 25:\n",
    "    print(joke_1)\n",
    "elif guess <=50:\n",
    "    print (joke_2)\n",
    "elif guess <=75:\n",
    "    print (joke_3)\n",
    "elif guess <=100:\n",
    "    print (joke_4)"
   ]
  },
  {
   "cell_type": "code",
   "execution_count": null,
   "metadata": {},
   "outputs": [],
   "source": [
    "#TASK 3\n",
    "\n",
    "user = input (\"Hi! What is your name?\")\n",
    "starter = input(\"What is your favourite starter?\")\n",
    "main = input(\"What is your favourite main course?\")\n",
    "dessert = input(\"What is your favourite dessert?\")\n",
    "drink = input(\"What is your favourite drink?\")\n",
    "\n",
    "print(user + \", your favourite meal is\", starter , main , dessert, \"with a glass of\" , drink, \".\")\n",
    "\n"
   ]
  },
  {
   "cell_type": "code",
   "execution_count": null,
   "metadata": {},
   "outputs": [],
   "source": [
    "#TASK 4\n",
    "value_of_motorbike = 2000\n",
    "\n",
    "while value_of_motorbike > 1000:\n",
    "    print(value_of_motorbike)\n",
    "    value_of_motorbike = value_of_motorbike * 0.9\n"
   ]
  },
  {
   "cell_type": "code",
   "execution_count": null,
   "metadata": {},
   "outputs": [],
   "source": [
    "#TASK 5 \n",
    "\n",
    "number1 = int(input(\"Type the first number\"))\n",
    "number2 = int(input(\"Type the second number\"))\n",
    "operation = input(\"Enter one of these operators to use: +, -, /, *, **\")\n",
    "\n",
    "if operation == \"+\" : \n",
    "    print(number1 , operation, number2, \"= \" + str(number1 + number2))\n",
    "elif operation == \"-\" :\n",
    "    print(number1 , operation, number2, \"= \" + str(number1 - number2))\n",
    "elif operation == \"/\" :\n",
    "    print(number1 , operation, number2, \"= \" + str(number1 / number2))\n",
    "elif operation == \"*\" :\n",
    "    print(number1 , operation, number2, \"= \" + str(number1 * number2))\n",
    "elif operation == \"**\" :\n",
    "    print(number1 , operation, number2, \"= \" + str(number1 ** number2))\n",
    "else:\n",
    "    print(\"Invalid Entry\")\n",
    "\n"
   ]
  },
  {
   "cell_type": "code",
   "execution_count": null,
   "metadata": {},
   "outputs": [],
   "source": [
    "#TASK 6 \n",
    "\n",
    "num = int(input(\"Please enter a number\"))\n",
    "if (num % 2) == 0:\n",
    "    print(\"It is an even numeber\")\n",
    "else: \n",
    "    print(\"It is an odd number\")"
   ]
  },
  {
   "cell_type": "code",
   "execution_count": null,
   "metadata": {},
   "outputs": [],
   "source": [
    "#TASK 7 \n",
    "\n",
    "def value():\n",
    "    \n",
    "    value_of_motorbike = 2000\n",
    "    \n",
    "    while value_of_motorbike > 1000:\n",
    "        print(value_of_motorbike)\n",
    "        value_of_motorbike = value_of_motorbike * 0.9\n",
    "    \n",
    "    return value_of_motorbike\n",
    "\n",
    "message = value()"
   ]
  },
  {
   "cell_type": "code",
   "execution_count": 164,
   "metadata": {},
   "outputs": [],
   "source": [
    "# TASK 8\n",
    "\n",
    "def maths(inp_number1, inp_number2):\n",
    "\n",
    "    operation = input(\"Enter one of these operators to use: +, -, /, *, **\")\n",
    "\n",
    "    if operation == \"+\" : \n",
    "        print(inp_number1 , operation, inp_number2, \"= \" + str(inp_number1 + inp_number2))\n",
    "    elif operation == \"-\" :\n",
    "        print(inp_number1 , operation, inp_number2, \"= \" + str(inp_number1 - inp_number2))\n",
    "    elif operation == \"/\" :\n",
    "        print(inp_number1 , operation, inp_number2, \"= \" + str(inp_number1 / inp_number2))\n",
    "    elif operation == \"*\" :\n",
    "        print(inp_number1 , operation, inp_number2, \"= \" + str(inp_number1 * inp_number2))\n",
    "    elif operation == \"**\" :\n",
    "        print(inp_number1 , operation, inp_number2, \"= \" + str(inp_number1 ** inp_number2))\n",
    "    else:\n",
    "        print(\"Invalid Entry\")"
   ]
  },
  {
   "cell_type": "code",
   "execution_count": 165,
   "metadata": {},
   "outputs": [],
   "source": [
    "number1 = int(input(\"Type the first number\"))\n",
    "number2 = int(input(\"Type the second number\"))"
   ]
  },
  {
   "cell_type": "code",
   "execution_count": 166,
   "metadata": {},
   "outputs": [
    {
     "name": "stdout",
     "output_type": "stream",
     "text": [
      "2 + 4 = 6\n"
     ]
    }
   ],
   "source": [
    "maths(number1, number2)"
   ]
  },
  {
   "cell_type": "code",
   "execution_count": null,
   "metadata": {},
   "outputs": [],
   "source": [
    "number3 = 20\n",
    "number4 = 10"
   ]
  },
  {
   "cell_type": "code",
   "execution_count": null,
   "metadata": {},
   "outputs": [],
   "source": [
    "maths(number3, number4)"
   ]
  },
  {
   "cell_type": "code",
   "execution_count": null,
   "metadata": {},
   "outputs": [],
   "source": [
    "number5 = 10\n",
    "number6 = 2"
   ]
  },
  {
   "cell_type": "code",
   "execution_count": null,
   "metadata": {},
   "outputs": [],
   "source": [
    "maths(number5, number6)"
   ]
  },
  {
   "cell_type": "code",
   "execution_count": 98,
   "metadata": {},
   "outputs": [],
   "source": [
    "#TASK 9 \n",
    "no_1 = int(input(\"Put down the first number\"))\n",
    "no_2 = int(input(\"Put down the second number\"))\n",
    "no_3 = int(input(\"Put down the third number\"))\n",
    "no_4 = int(input(\"Put down the fourth number\"))\n",
    "\n",
    "numbers = [no_1, no_2, no_3, no_4]\n",
    "\n",
    "task_file = open(\"numbers.txt\", \"w\")\n",
    "task_file.write(str(numbers))\n",
    "task_file.close()\n"
   ]
  },
  {
   "cell_type": "code",
   "execution_count": 94,
   "metadata": {},
   "outputs": [],
   "source": [
    "# using \\n\n",
    "\n",
    "practice_file = open(\"numbers.txt\", \"w\")\n",
    "for i in range(10):\n",
    "    practice_file.write(str(i))\n",
    "    practice_file.write(\"\\n\")\n",
    "\n",
    "practice_file.close()"
   ]
  },
  {
   "cell_type": "code",
   "execution_count": 99,
   "metadata": {},
   "outputs": [
    {
     "name": "stdout",
     "output_type": "stream",
     "text": [
      "[4, 5, 6, 7]\n"
     ]
    }
   ],
   "source": [
    "#Reading file\n",
    "with open(\"numbers.txt\", \"r\") as myfile:\n",
    "    data = myfile.read()\n",
    "\n",
    "myfile.close()\n",
    "\n",
    "print(data)\n"
   ]
  },
  {
   "cell_type": "code",
   "execution_count": 100,
   "metadata": {},
   "outputs": [
    {
     "name": "stdout",
     "output_type": "stream",
     "text": [
      "[4, 5, 6, 7]\n"
     ]
    }
   ],
   "source": [
    "#Reading file + using replace\n",
    "\n",
    "with open(\"numbers.txt\", \"r\") as practicefile:\n",
    "     practice = practicefile.read().replace('\\n', \",\")\n",
    "\n",
    "practicefile.close()\n",
    "\n",
    "print(practice)"
   ]
  },
  {
   "cell_type": "code",
   "execution_count": 103,
   "metadata": {},
   "outputs": [],
   "source": [
    "#Appending file \n",
    "\n",
    "Myfile = open(\"numbers.txt\",\"a\")\n",
    "\n",
    "Myfile.write(\"This is a practice\\n\")\n",
    "\n",
    "Myfile.close()"
   ]
  },
  {
   "cell_type": "code",
   "execution_count": 237,
   "metadata": {},
   "outputs": [
    {
     "name": "stdout",
     "output_type": "stream",
     "text": [
      "Mark =  70%\n",
      "You achieved B\n",
      "Your target grade was B\n",
      "Well done! You acheived your target grade\n"
     ]
    }
   ],
   "source": [
    "#TASK 10 \n",
    "def mark_grade(): \n",
    "    achievedmark = int(input(\"What percentage mark did you get?\"))\n",
    "    print(\"Mark = \" , str(achievedmark) + \"%\") \n",
    "    if 100 >= achievedmark >= 90:\n",
    "        print(\"You achieved A\")\n",
    "    elif 90 > achievedmark >= 80:\n",
    "        print(\"You achieved A\")\n",
    "    elif 80 > achievedmark >= 70:\n",
    "        print(\"You achieved B\")\n",
    "    elif 70 > achievedmark >= 60:\n",
    "        print(\"You achieved C\")\n",
    "    elif 60 > achievedmark >= 50:\n",
    "        print(\"You achieved D\")\n",
    "    elif 50 > achievedmark >= 40:\n",
    "        print(\"You achieved E\")\n",
    "    elif achievedmark < 40:\n",
    "        print(\"Grade U, Sorry you failed! Grade U!\")\n",
    "    else: \n",
    "        print(\"You entered incorrect mark\")\n",
    "    \n",
    "    return achievedmark\n",
    "\n",
    "message = mark_grade()\n",
    "\n",
    "def target_grade():\n",
    "    \n",
    "    target =input(\"What was your target grade?\")\n",
    "    output = \"Your target grade was \"+ target \n",
    "\n",
    "    return output\n",
    "\n",
    "\n",
    "message2 = target_grade()\n",
    "\n",
    "print(message2)\n",
    "\n",
    "targetmark = int(input(\"Type the target mark from the range corresponding to your target grade: A* = 90-100 , A = 80-89, B = 79-70, C = 69-60, D = 59-50, E = 49-40, U = <40\"))\n",
    "achieved_mark = int(input(\"What percentage mark did you get?\"))\n",
    "    \n",
    "if targetmark == achieved_mark:\n",
    "    print(\"Well done! You acheived your target grade\")\n",
    "elif targetmark > achieved_mark:\n",
    "    print(\"Unlucky! You didn't achieve your target grade\")\n",
    "elif targetmark < achieved_mark:\n",
    "    print(\"Well done! You exceeded your target grade\")\n"
   ]
  },
  {
   "cell_type": "markdown",
   "metadata": {},
   "source": [
    "All the codes below are the practice ones that I tried from the first week (i.e : PLEASE IGNORE!!!) \\"
   ]
  },
  {
   "cell_type": "code",
   "execution_count": 2,
   "metadata": {},
   "outputs": [
    {
     "name": "stdout",
     "output_type": "stream",
     "text": [
      "Grade A\n"
     ]
    }
   ],
   "source": [
    "def get_letter_grade(final_score) :\n",
    "\n",
    "    if 90 <= final_score <= 100:\n",
    "        grade = 'Grade A'\n",
    "    elif 80 <= final_score <= 89:\n",
    "        grade = 'B'\n",
    "    elif 70 <= final_score <= 79:\n",
    "        grade = 'C'\n",
    "    elif 60 <= final_score <= 69:\n",
    "        grade = 'D'\n",
    "    else:\n",
    "        grade = 'F'\n",
    "    return grade\n",
    "\n",
    "message= get_letter_grade(95)\n",
    "print(message)"
   ]
  },
  {
   "cell_type": "code",
   "execution_count": null,
   "metadata": {},
   "outputs": [],
   "source": [
    "my_1d_list = [1, 2, 3, 4, 5, 6, 7, 8,]\n",
    "print(my_1d_list)\n",
    "print(len(my_1d_list))\n",
    "\n",
    "for i in range(len(my_1d_list)):\n",
    "    print(\"My list value\", i, \"is :\", my_1d_list[i])\n",
    "\n",
    "print(my_1d_list[2])\n",
    "print(my_1d_list[2:6])"
   ]
  },
  {
   "cell_type": "code",
   "execution_count": null,
   "metadata": {},
   "outputs": [],
   "source": [
    "my2dlist = [[1,2,3,4],[5,6,7,8],[9,10,11,12],[13,14,15,16]]\n",
    "print(my2dlist)\n",
    "print(my2dlist[0])\n",
    "print(my2dlist[2][3])\n",
    "print(my2dlist[2:4])"
   ]
  },
  {
   "cell_type": "code",
   "execution_count": null,
   "metadata": {},
   "outputs": [],
   "source": [
    "mytext = \"Example\"\n",
    "for each_char in range(len(mytext)):\n",
    "    print(\"My character at\", each_char, \"is\", mytext[each_char])"
   ]
  },
  {
   "cell_type": "code",
   "execution_count": null,
   "metadata": {},
   "outputs": [],
   "source": [
    "user_input = int(input(\"Please enter a number\"))\n",
    "while user_input > 10:\n",
    "    print(user_input)\n",
    "    user_input = user_input - 1 "
   ]
  },
  {
   "cell_type": "code",
   "execution_count": 4,
   "metadata": {},
   "outputs": [],
   "source": [
    "def function_1(): \n",
    "    name = input(\"What is your name?\")\n",
    "    age = int(input(\"What is your age?\"))\n",
    "\n",
    "    output = print(\"Hello\", name + \"! You will be\", age + 2, \"in 2 years\")\n",
    "\n",
    "    return output "
   ]
  },
  {
   "cell_type": "code",
   "execution_count": null,
   "metadata": {},
   "outputs": [],
   "source": [
    "function_1()"
   ]
  },
  {
   "cell_type": "code",
   "execution_count": null,
   "metadata": {},
   "outputs": [],
   "source": [
    "number1 = 1\n",
    "number2 = 2\n",
    "\n",
    "if number1 == 1:\n",
    "    if number2 == 2:\n",
    "        print(\"Both number match up\") \n",
    "    else: \n",
    "        print(\"The first number matches but not the second\")\n",
    "else:\n",
    "    if number2 == 2: \n",
    "        print(\"Only the second number matches\")\n",
    "    else:\n",
    "        print(\"None match\")"
   ]
  },
  {
   "cell_type": "code",
   "execution_count": null,
   "metadata": {},
   "outputs": [],
   "source": [
    "for i in range(10):\n",
    "    for j in range(10):\n",
    "        print(\"i:\", i , \"j:\", j)\n",
    "    print(\"The start of next i loop\")"
   ]
  },
  {
   "cell_type": "code",
   "execution_count": null,
   "metadata": {},
   "outputs": [],
   "source": [
    "var_1 = 6\n",
    "var_2 = 7\n",
    "print(var_1)\n",
    "print(var_2)\n",
    "\n",
    "var_1 = var_2\n",
    "print(var_1)"
   ]
  },
  {
   "cell_type": "code",
   "execution_count": null,
   "metadata": {},
   "outputs": [],
   "source": [
    "cheese = [25, \"Kyle\", [350, \"Lenish\"], 89, \"Hi\" ]\n",
    "chicken = [\"t\", \"m\"]\n",
    "\n",
    "cheese.append(chicken)\n",
    "\n",
    "print(cheese)"
   ]
  },
  {
   "cell_type": "code",
   "execution_count": null,
   "metadata": {},
   "outputs": [],
   "source": [
    "dalek = (56, 38, (), [], \"exterminate\")\n",
    "\n",
    "print(dalek[::-1])"
   ]
  },
  {
   "cell_type": "code",
   "execution_count": 272,
   "metadata": {},
   "outputs": [
    {
     "name": "stdout",
     "output_type": "stream",
     "text": [
      "You did it!\n"
     ]
    }
   ],
   "source": [
    "fools = {2049 : {\"Dezel, Tom, Billy, Jonathan\"}}\n",
    "\n",
    "clowns = {129 : \"Tommy, Justin, Ben\"}\n",
    "\n",
    "fools.update(clowns)\n",
    "\n",
    "if 2049 in fools:\n",
    "    print(\"You did it!\")"
   ]
  },
  {
   "cell_type": "code",
   "execution_count": 273,
   "metadata": {},
   "outputs": [],
   "source": [
    "#function \n",
    "import random\n",
    "dicelist = [1,2,3,4,5,6,7,8,9,10]\n",
    "def dice():\n",
    "    number1 = random.choice(dicelist)\n",
    "    number2 = random.choice(dicelist)\n",
    "\n",
    "    number = number1 + number2\n",
    "    #passes value to the program below\n",
    "    return number\n"
   ]
  },
  {
   "cell_type": "code",
   "execution_count": 274,
   "metadata": {},
   "outputs": [
    {
     "name": "stdout",
     "output_type": "stream",
     "text": [
      "The number returned from the function is: 14\n"
     ]
    }
   ],
   "source": [
    "dice()\n",
    "newnumber = dice()\n",
    "print(\"The number returned from the function is:\", newnumber)"
   ]
  }
 ],
 "metadata": {
  "interpreter": {
   "hash": "4036cbc5b3a6e1bf5c71dfdd7fac6a91e4819f97a5327826313a74d033093da2"
  },
  "kernelspec": {
   "display_name": "Python 3.9.7 64-bit",
   "name": "python3"
  },
  "language_info": {
   "codemirror_mode": {
    "name": "ipython",
    "version": 3
   },
   "file_extension": ".py",
   "mimetype": "text/x-python",
   "name": "python",
   "nbconvert_exporter": "python",
   "pygments_lexer": "ipython3",
   "version": "3.9.7"
  },
  "orig_nbformat": 4
 },
 "nbformat": 4,
 "nbformat_minor": 2
}
