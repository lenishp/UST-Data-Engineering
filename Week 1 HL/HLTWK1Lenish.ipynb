{
 "cells": [
  {
   "cell_type": "code",
   "execution_count": null,
   "source": [
    "print(\"Hello World\")\r\n",
    "print(\"My name is Lenish\")"
   ],
   "outputs": [],
   "metadata": {}
  },
  {
   "cell_type": "code",
   "execution_count": null,
   "source": [
    "# TASK 1\r\n",
    "\r\n",
    "import random\r\n",
    "name_user = input(\"Hi! What is your name?\")\r\n",
    "number = random.randint(1,10)\r\n",
    "print (name_user + \", guess the number I am thinking of between 1 & 10\")\r\n",
    "guessNumber = int(input(\"Type the number\"))\r\n",
    "if guessNumber == number:\r\n",
    "    print(\"Congrats! You guessed it correctly\")\r\n",
    "else:\r\n",
    "    print(\"Sorry you guessed it wrong, Try Again!\")"
   ],
   "outputs": [],
   "metadata": {}
  },
  {
   "cell_type": "code",
   "execution_count": null,
   "source": [
    "#TASK 2 \r\n",
    "\r\n",
    "joke_1 = \"What did the buffalo say when his son left for college? Bison!\"\r\n",
    "joke_2 = \"Where do fish sleep? In the riverbed.\"\r\n",
    "joke_3 = \"What do you call a singing laptop? A Dell!\"\r\n",
    "joke_4 = \"You know what I saw today? Everything I looked at.\"\r\n",
    "\r\n",
    "guess = int(input(\"Type  your favourite number between 1 & 100\"))\r\n",
    "if guess < 0 or guess > 100:\r\n",
    "    print(\"Error!\")\r\n",
    "elif guess <= 25:\r\n",
    "    print(joke_1)\r\n",
    "elif guess <=50:\r\n",
    "    print (joke_2)\r\n",
    "elif guess <=75:\r\n",
    "    print (joke_3)\r\n",
    "elif guess <=100:\r\n",
    "    print (joke_4)"
   ],
   "outputs": [],
   "metadata": {}
  },
  {
   "cell_type": "code",
   "execution_count": null,
   "source": [
    "#TASK 3\r\n",
    "\r\n",
    "user = input (\"Hi! What is your name?\")\r\n",
    "starter = input(\"What is your favourite starter?\")\r\n",
    "main = input(\"What is your favourite main course?\")\r\n",
    "dessert = input(\"What is your favourite dessert?\")\r\n",
    "drink = input(\"What is your favourite drink?\")\r\n",
    "\r\n",
    "print(user + \", your favourite meal is\", starter , main , dessert, \"with a glass of\" , drink, \".\")\r\n",
    "\r\n"
   ],
   "outputs": [],
   "metadata": {}
  },
  {
   "cell_type": "code",
   "execution_count": null,
   "source": [
    "#TASK 4\r\n",
    "value_of_motorbike = 2000\r\n",
    "\r\n",
    "while value_of_motorbike > 1000:\r\n",
    "    print(value_of_motorbike)\r\n",
    "    value_of_motorbike = value_of_motorbike * 0.9\r\n"
   ],
   "outputs": [],
   "metadata": {}
  },
  {
   "cell_type": "code",
   "execution_count": null,
   "source": [
    "#TASK 5 \r\n",
    "\r\n",
    "number1 = int(input(\"Type the first number\"))\r\n",
    "number2 = int(input(\"Type the second number\"))\r\n",
    "operation = input(\"Enter one of these operators to use: +, -, /, *, **\")\r\n",
    "\r\n",
    "if operation == \"+\" : \r\n",
    "    print(number1 , operation, number2, \"= \" + str(number1 + number2))\r\n",
    "elif operation == \"-\" :\r\n",
    "    print(number1 , operation, number2, \"= \" + str(number1 - number2))\r\n",
    "elif operation == \"/\" :\r\n",
    "    print(number1 , operation, number2, \"= \" + str(number1 / number2))\r\n",
    "elif operation == \"*\" :\r\n",
    "    print(number1 , operation, number2, \"= \" + str(number1 * number2))\r\n",
    "elif operation == \"**\" :\r\n",
    "    print(number1 , operation, number2, \"= \" + str(number1 ** number2))\r\n",
    "else:\r\n",
    "    print(\"Invalid Entry\")\r\n",
    "\r\n"
   ],
   "outputs": [],
   "metadata": {}
  },
  {
   "cell_type": "code",
   "execution_count": null,
   "source": [
    "#TASK 6 \r\n",
    "\r\n",
    "num = int(input(\"Please enter a number\"))\r\n",
    "if (num % 2) == 0:\r\n",
    "    print(\"It is an even numeber\")\r\n",
    "else: \r\n",
    "    print(\"It is an odd number\")"
   ],
   "outputs": [],
   "metadata": {}
  },
  {
   "cell_type": "code",
   "execution_count": null,
   "source": [
    "#TASK 7 \r\n",
    "\r\n",
    "def value():\r\n",
    "    \r\n",
    "    value_of_motorbike = 2000\r\n",
    "    \r\n",
    "    while value_of_motorbike > 1000:\r\n",
    "        print(value_of_motorbike)\r\n",
    "        value_of_motorbike = value_of_motorbike * 0.9\r\n",
    "    \r\n",
    "    return value_of_motorbike\r\n",
    "\r\n",
    "message = value()"
   ],
   "outputs": [],
   "metadata": {}
  },
  {
   "cell_type": "code",
   "execution_count": null,
   "source": [
    "# TASK 8\r\n",
    "\r\n",
    "def maths(inp_number1, inp_number2):\r\n",
    "\r\n",
    "    operation = input(\"Enter one of these operators to use: +, -, /, *, **\")\r\n",
    "\r\n",
    "    if operation == \"+\" : \r\n",
    "        print(inp_number1 , operation, inp_number2, \"= \" + str(inp_number1 + inp_number2))\r\n",
    "    elif operation == \"-\" :\r\n",
    "        print(inp_number1 , operation, inp_number2, \"= \" + str(inp_number1 - inp_number2))\r\n",
    "    elif operation == \"/\" :\r\n",
    "        print(inp_number1 , operation, inp_number2, \"= \" + str(inp_number1 / inp_number2))\r\n",
    "    elif operation == \"*\" :\r\n",
    "        print(inp_number1 , operation, inp_number2, \"= \" + str(inp_number1 * inp_number2))\r\n",
    "    elif operation == \"**\" :\r\n",
    "        print(inp_number1 , operation, inp_number2, \"= \" + str(inp_number1 ** inp_number2))\r\n",
    "    else:\r\n",
    "        print(\"Invalid Entry\")"
   ],
   "outputs": [],
   "metadata": {}
  },
  {
   "cell_type": "code",
   "execution_count": null,
   "source": [
    "number1 = int(input(\"Type the first number\"))\r\n",
    "number2 = int(input(\"Type the second number\"))"
   ],
   "outputs": [],
   "metadata": {}
  },
  {
   "cell_type": "code",
   "execution_count": null,
   "source": [
    "maths(number1, number2)"
   ],
   "outputs": [],
   "metadata": {}
  },
  {
   "cell_type": "code",
   "execution_count": null,
   "source": [
    "number3 = 20\r\n",
    "number4 = 10"
   ],
   "outputs": [],
   "metadata": {}
  },
  {
   "cell_type": "code",
   "execution_count": null,
   "source": [
    "maths(number3, number4)"
   ],
   "outputs": [],
   "metadata": {}
  },
  {
   "cell_type": "code",
   "execution_count": null,
   "source": [
    "number5 = 10\r\n",
    "number6 = 2"
   ],
   "outputs": [],
   "metadata": {}
  },
  {
   "cell_type": "code",
   "execution_count": null,
   "source": [
    "maths(number5, number6)"
   ],
   "outputs": [],
   "metadata": {}
  },
  {
   "cell_type": "code",
   "execution_count": null,
   "source": [
    "#TASK9"
   ],
   "outputs": [],
   "metadata": {}
  },
  {
   "cell_type": "markdown",
   "source": [
    "All the codes below are the practice ones that I tried from the first week (i.e : PLEASE IGNORE!!!) \\"
   ],
   "metadata": {}
  },
  {
   "cell_type": "code",
   "execution_count": null,
   "source": [
    "user_input = int(input(\"Please enter a number\"))\r\n",
    "while user_input > 10:\r\n",
    "    print(user_input)\r\n",
    "    user_input = user_input - 1 "
   ],
   "outputs": [],
   "metadata": {}
  },
  {
   "cell_type": "code",
   "execution_count": 3,
   "source": [
    "def function_1(): \r\n",
    "    name = input(\"What is your name?\")\r\n",
    "    age = int(input(\"What is your age?\"))\r\n",
    "\r\n",
    "    output = print(\"Hello\", name + \"! You will be\", age + 2, \"in 2 years\")\r\n",
    "\r\n",
    "    return output "
   ],
   "outputs": [],
   "metadata": {}
  },
  {
   "cell_type": "code",
   "execution_count": null,
   "source": [
    "function_1()"
   ],
   "outputs": [],
   "metadata": {}
  },
  {
   "cell_type": "code",
   "execution_count": null,
   "source": [
    "number1 = 1\r\n",
    "number2 = 2\r\n",
    "\r\n",
    "if number1 == 1:\r\n",
    "    if number2 == 2:\r\n",
    "        print(\"Both number match up\") \r\n",
    "    else: \r\n",
    "        print(\"The first number matches but not the second\")\r\n",
    "else:\r\n",
    "    if number2 == 2: \r\n",
    "        print(\"Only the second number matches\")\r\n",
    "    else:\r\n",
    "        print(\"None match\")"
   ],
   "outputs": [],
   "metadata": {}
  },
  {
   "cell_type": "code",
   "execution_count": null,
   "source": [
    "for i in range(10):\r\n",
    "    for j in range(10):\r\n",
    "        print(\"i:\", i , \"j:\", j)\r\n",
    "    print(\"The start of next i loop\")"
   ],
   "outputs": [],
   "metadata": {}
  },
  {
   "cell_type": "code",
   "execution_count": null,
   "source": [
    "var_1 = 6\r\n",
    "var_2 = 7\r\n",
    "print(var_1)\r\n",
    "print(var_2)\r\n",
    "\r\n",
    "var_1 = var_2\r\n",
    "print(var_1)"
   ],
   "outputs": [],
   "metadata": {}
  },
  {
   "cell_type": "code",
   "execution_count": null,
   "source": [
    "cheese = [25, \"Kyle\", [350, \"Lenish\"], 89, \"Hi\" ]\r\n",
    "chicken = [\"t\", \"m\"]\r\n",
    "\r\n",
    "cheese.append(chicken)\r\n",
    "\r\n",
    "print(cheese)"
   ],
   "outputs": [],
   "metadata": {}
  },
  {
   "cell_type": "code",
   "execution_count": null,
   "source": [
    "dalek = (56, 38, (), [], \"exterminate\")\r\n",
    "\r\n",
    "print(dalek[::-1])"
   ],
   "outputs": [],
   "metadata": {}
  },
  {
   "cell_type": "code",
   "execution_count": 272,
   "source": [
    "fools = {2049 : {\"Dezel, Tom, Billy, Jonathan\"}}\r\n",
    "\r\n",
    "clowns = {129 : \"Tommy, Justin, Ben\"}\r\n",
    "\r\n",
    "fools.update(clowns)\r\n",
    "\r\n",
    "if 2049 in fools:\r\n",
    "    print(\"You did it!\")"
   ],
   "outputs": [
    {
     "output_type": "stream",
     "name": "stdout",
     "text": [
      "You did it!\n"
     ]
    }
   ],
   "metadata": {}
  },
  {
   "cell_type": "code",
   "execution_count": 273,
   "source": [
    "#function \r\n",
    "import random\r\n",
    "dicelist = [1,2,3,4,5,6,7,8,9,10]\r\n",
    "def dice():\r\n",
    "    number1 = random.choice(dicelist)\r\n",
    "    number2 = random.choice(dicelist)\r\n",
    "\r\n",
    "    number = number1 + number2\r\n",
    "    #passes value to the program below\r\n",
    "    return number\r\n"
   ],
   "outputs": [],
   "metadata": {}
  },
  {
   "cell_type": "code",
   "execution_count": 274,
   "source": [
    "dice()\r\n",
    "newnumber = dice()\r\n",
    "print(\"The number returned from the function is:\", newnumber)"
   ],
   "outputs": [
    {
     "output_type": "stream",
     "name": "stdout",
     "text": [
      "The number returned from the function is: 14\n"
     ]
    }
   ],
   "metadata": {}
  }
 ],
 "metadata": {
  "orig_nbformat": 4,
  "language_info": {
   "name": "python",
   "version": "3.9.7",
   "mimetype": "text/x-python",
   "codemirror_mode": {
    "name": "ipython",
    "version": 3
   },
   "pygments_lexer": "ipython3",
   "nbconvert_exporter": "python",
   "file_extension": ".py"
  },
  "kernelspec": {
   "name": "python3",
   "display_name": "Python 3.9.7 64-bit"
  },
  "interpreter": {
   "hash": "4036cbc5b3a6e1bf5c71dfdd7fac6a91e4819f97a5327826313a74d033093da2"
  }
 },
 "nbformat": 4,
 "nbformat_minor": 2
}