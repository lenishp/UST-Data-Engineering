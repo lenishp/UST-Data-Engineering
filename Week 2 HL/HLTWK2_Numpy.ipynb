{
 "cells": [
  {
   "cell_type": "code",
   "execution_count": 40,
   "metadata": {},
   "outputs": [],
   "source": [
    "import numpy as np"
   ]
  },
  {
   "cell_type": "code",
   "execution_count": 41,
   "metadata": {},
   "outputs": [
    {
     "name": "stdout",
     "output_type": "stream",
     "text": [
      "[0 1 2 3 4 5 6 7 8 9]\n"
     ]
    }
   ],
   "source": [
    "#No.1\n",
    "array1D = np.arange(10)\n",
    "print(array1D)"
   ]
  },
  {
   "cell_type": "code",
   "execution_count": 42,
   "metadata": {},
   "outputs": [
    {
     "name": "stdout",
     "output_type": "stream",
     "text": [
      "[[ True  True  True]\n",
      " [ True  True  True]\n",
      " [ True  True  True]]\n"
     ]
    }
   ],
   "source": [
    "#No.2\n",
    "boolean_arr = np.ones((3,3), dtype= bool)\n",
    "print(boolean_arr)"
   ]
  },
  {
   "cell_type": "code",
   "execution_count": 43,
   "metadata": {},
   "outputs": [
    {
     "name": "stdout",
     "output_type": "stream",
     "text": [
      "Array = [ 1  2  3  4  5  6  7  8  9 10]\n",
      "Odd Numbers from array = [1 3 5 7 9]\n"
     ]
    }
   ],
   "source": [
    "#No.3\n",
    "arr_1 = np.arange(1,11)\n",
    "print(\"Array =\", arr_1)\n",
    "arr1 = np.arange(1,11,2)\n",
    "print(\"Odd Numbers from array =\",(arr1))"
   ]
  },
  {
   "cell_type": "code",
   "execution_count": 44,
   "metadata": {},
   "outputs": [
    {
     "name": "stdout",
     "output_type": "stream",
     "text": [
      "Array = [ 1  2  3  4  5  6  7  8  9 10]\n",
      "[-1  2 -1  4 -1  6 -1  8 -1 10]\n"
     ]
    }
   ],
   "source": [
    "#No.4\n",
    "arr_1 = np.arange(1,11)\n",
    "print(\"Array =\", arr_1)\n",
    "odd_no = ((arr_1 % 2) == 1)\n",
    "arr_1[odd_no] = -1\n",
    "print(arr_1)"
   ]
  },
  {
   "cell_type": "code",
   "execution_count": 54,
   "metadata": {},
   "outputs": [
    {
     "name": "stdout",
     "output_type": "stream",
     "text": [
      "2D Array = [[1 2]\n",
      " [3 4]]\n"
     ]
    }
   ],
   "source": [
    "#No.5\n",
    "arr2D = np.arange(1,5).reshape(2,2,)\n",
    "print(\"2D Array =\", arr2D)"
   ]
  },
  {
   "cell_type": "code",
   "execution_count": 57,
   "metadata": {},
   "outputs": [
    {
     "name": "stdout",
     "output_type": "stream",
     "text": [
      "a = [[ 5  6  7]\n",
      " [ 8  9 10]\n",
      " [11 12 13]]\n",
      "b = [[14 15 16]\n",
      " [17 18 19]\n",
      " [20 21 22]]\n",
      "c = [[312 330 348]\n",
      " [465 492 519]\n",
      " [618 654 690]]\n",
      "Total sum = 4428\n"
     ]
    }
   ],
   "source": [
    "#No.6\n",
    "a = np.arange(5,14).reshape(3,3)\n",
    "b = np.arange(14,23).reshape(3,3)\n",
    "c = np.dot(a,b)\n",
    "print(\"a =\", a)\n",
    "print(\"b =\", b)\n",
    "print(\"c =\", c)\n",
    "\n",
    "total_sum = np.sum(c)\n",
    "print(\"Total sum =\", total_sum)\n"
   ]
  },
  {
   "cell_type": "code",
   "execution_count": 68,
   "metadata": {},
   "outputs": [
    {
     "name": "stdout",
     "output_type": "stream",
     "text": [
      "[1 2 3]\n"
     ]
    },
    {
     "data": {
      "text/plain": [
       "array([1, 1, 1, 2, 2, 2, 3, 3, 3, 1, 2, 3, 1, 2, 3, 1, 2, 3])"
      ]
     },
     "execution_count": 68,
     "metadata": {},
     "output_type": "execute_result"
    }
   ],
   "source": [
    "#Extension no.1 \n",
    "\n",
    "array1 = np.array([1, 2, 3])\n",
    "print(array1)\n",
    "repeat = np.repeat(array1, 3)\n",
    "usingtile = np.tile(array1, 3)\n",
    "np.r_[repeat, usingtile]"
   ]
  },
  {
   "cell_type": "code",
   "execution_count": 69,
   "metadata": {},
   "outputs": [
    {
     "data": {
      "text/plain": [
       "array([1, 2, 3])"
      ]
     },
     "execution_count": 69,
     "metadata": {},
     "output_type": "execute_result"
    }
   ],
   "source": [
    "#Extension no.2 \n",
    "\n",
    "a = np.array([1, 2, 3, 4, 5])\n",
    "b = np.array([4, 5, 6, 7, 8, 9])\n",
    "np.setdiff1d(a,b)"
   ]
  },
  {
   "cell_type": "code",
   "execution_count": 84,
   "metadata": {},
   "outputs": [
    {
     "name": "stdout",
     "output_type": "stream",
     "text": [
      "[3 4 5]\n",
      "[4 5 6]\n",
      "Total sum = 62\n"
     ]
    }
   ],
   "source": [
    "#Extension no.3\n",
    "\n",
    "arr_3 = np.where((a>=3) & (a<7))\n",
    "arr3 = a[arr_3]\n",
    "print(arr3)\n",
    "arr_4 = np.where((b>=3) & (b<7))\n",
    "arr4 = b[arr_4]\n",
    "print(arr4)\n",
    "arr5 = np.dot(arr4,arr3)\n",
    "\n",
    "tsum = np.sum(arr5)\n",
    "print(\"Total sum =\", tsum)"
   ]
  }
 ],
 "metadata": {
  "interpreter": {
   "hash": "4036cbc5b3a6e1bf5c71dfdd7fac6a91e4819f97a5327826313a74d033093da2"
  },
  "kernelspec": {
   "display_name": "Python 3.9.7 64-bit",
   "name": "python3"
  },
  "language_info": {
   "codemirror_mode": {
    "name": "ipython",
    "version": 3
   },
   "file_extension": ".py",
   "mimetype": "text/x-python",
   "name": "python",
   "nbconvert_exporter": "python",
   "pygments_lexer": "ipython3",
   "version": "3.9.7"
  },
  "orig_nbformat": 4
 },
 "nbformat": 4,
 "nbformat_minor": 2
}
